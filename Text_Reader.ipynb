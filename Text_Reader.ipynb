!pip install easyocr
import easyocr
import cv2
import matplotlib.pyplot as plt
from PIL import Image
from google.colab import files
import os

limit = 0.01

reader = easyocr.Reader(['ko', 'en'])

def read(img_path):
    img = cv2.imread(img_path)

    result = reader.readtext(img)

    r = []

    for bbox, text, conf in result:
        if conf > limit:
            r.append(text)
            cv2.rectangle(img, pt1=(int(bbox[0][0]), int(bbox[0][1])), pt2=(int(bbox[2][0]), int(bbox[2][1])), color=(0, 255, 0), thickness=3)

    plt.figure(figsize=(8, 8))
    plt.imshow(img[:, :, ::-1])
    plt.axis('off')
    plt.show()
    print(r)


uploaded = files.upload()
image_name = list(uploaded.keys())[0]
print(image_name)
img = Image.open(image_name)
plt.imshow(img)
plt.axis('off')
plt.show()
img_path='/content/'+image_name

read(img_path)

if os.path.exists(img_path):
    os.remove(img_path)
else:
    print(f"{img_path} does not exist.")
